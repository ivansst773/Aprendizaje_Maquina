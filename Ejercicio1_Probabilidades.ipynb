{
  "nbformat": 4,
  "nbformat_minor": 0,
  "metadata": {
    "colab": {
      "provenance": [],
      "authorship_tag": "ABX9TyPAlYgfwEcbJdDoZE7CtpGx",
      "include_colab_link": true
    },
    "kernelspec": {
      "name": "python3",
      "display_name": "Python 3"
    },
    "language_info": {
      "name": "python"
    }
  },
  "cells": [
    {
      "cell_type": "markdown",
      "metadata": {
        "id": "view-in-github",
        "colab_type": "text"
      },
      "source": [
        "<a href=\"https://colab.research.google.com/github/ivansst773/Aprendizaje_Maquina/blob/main/Ejercicio1_Probabilidades.ipynb\" target=\"_parent\"><img src=\"https://colab.research.google.com/assets/colab-badge.svg\" alt=\"Open In Colab\"/></a>"
      ]
    },
    {
      "cell_type": "markdown",
      "source": [],
      "metadata": {
        "id": "shabLMX7aN0B"
      }
    },
    {
      "cell_type": "code",
      "execution_count": null,
      "metadata": {
        "id": "FE8Iy4yTRn4F",
        "colab": {
          "base_uri": "https://localhost:8080/"
        },
        "outputId": "d17245cc-bb7f-432c-c830-da33ee86b85a"
      },
      "outputs": [
        {
          "output_type": "stream",
          "name": "stdout",
          "text": [
            "P(F=a) = 0.7333333333333333\n",
            "P(F=o) = 0.4\n",
            "P(B=r|F=o) = 1.0\n",
            "P(B=b|F=o) = 0.0\n",
            "P(B=r|F=a) = 0.18181818181818182\n",
            "P(B=b|F=a) = 0.8181818181818182\n"
          ]
        }
      ],
      "source": [
        "# Definimos las probabilidades iniciales de elegir cada caja\n",
        "probabilidad_caja_roja = 0.4\n",
        "probabilidad_caja_azul = 0.6\n",
        "\n",
        "# Definimos las probabilidades condicionales de sacar cada fruta dada la caja\n",
        "probabilidad_naranja_dado_roja = 1\n",
        "probabilidad_manzana_dado_roja = 3/9  # 3 manzanas de 9 frutas en la caja roja\n",
        "probabilidad_naranja_dado_azul = 0\n",
        "probabilidad_manzana_dado_azul = 1\n",
        "\n",
        "# 1. Probabilidad de sacar una manzana (P(F=a))\n",
        "probabilidad_manzana = (probabilidad_manzana_dado_roja * probabilidad_caja_roja) + (probabilidad_manzana_dado_azul * probabilidad_caja_azul)\n",
        "print(f\"P(F=a) = {probabilidad_manzana}\")\n",
        "\n",
        "# 2. Probabilidad de sacar una naranja (P(F=o))\n",
        "probabilidad_naranja = (probabilidad_naranja_dado_roja * probabilidad_caja_roja) + (probabilidad_naranja_dado_azul * probabilidad_caja_azul)\n",
        "print(f\"P(F=o) = {probabilidad_naranja}\")\n",
        "\n",
        "# 3. Probabilidad de haber elegido la caja roja dado que sacamos una naranja (P(B=r|F=o))\n",
        "# Asegurémonos de no dividir por cero si la probabilidad de sacar naranja es 0\n",
        "if probabilidad_naranja > 0:\n",
        "    probabilidad_roja_dado_naranja = (probabilidad_naranja_dado_roja * probabilidad_caja_roja) / probabilidad_naranja\n",
        "    print(f\"P(B=r|F=o) = {probabilidad_roja_dado_naranja}\")\n",
        "else:\n",
        "    print(\"P(B=r|F=o) no se puede calcular directamente (probabilidad de naranja es 0)\")\n",
        "\n",
        "# 4. Probabilidad de haber elegido la caja azul dado que sacamos una naranja (P(B=b|F=o))\n",
        "if probabilidad_naranja > 0:\n",
        "    probabilidad_azul_dado_naranja = (probabilidad_naranja_dado_azul * probabilidad_caja_azul) / probabilidad_naranja\n",
        "    print(f\"P(B=b|F=o) = {probabilidad_azul_dado_naranja}\")\n",
        "else:\n",
        "    print(\"P(B=b|F=o) no se puede calcular directamente (probabilidad de naranja es 0)\")\n",
        "\n",
        "# 5. Probabilidad de haber elegido la caja roja dado que sacamos una manzana (P(B=r|F=a))\n",
        "if probabilidad_manzana > 0:\n",
        "    probabilidad_roja_dado_manzana = (probabilidad_manzana_dado_roja * probabilidad_caja_roja) / probabilidad_manzana\n",
        "    print(f\"P(B=r|F=a) = {probabilidad_roja_dado_manzana}\")\n",
        "else:\n",
        "    print(\"P(B=r|F=a) no se puede calcular directamente (probabilidad de manzana es 0)\")\n",
        "\n",
        "# 6. Probabilidad de haber elegido la caja azul dado que sacamos una manzana (P(B=b|F=a))\n",
        "if probabilidad_manzana > 0:\n",
        "    probabilidad_azul_dado_manzana = (probabilidad_manzana_dado_azul * probabilidad_caja_azul) / probabilidad_manzana\n",
        "    print(f\"P(B=b|F=a) = {probabilidad_azul_dado_manzana}\")\n",
        "else:\n",
        "    print(\"P(B=b|F=a) no se puede calcular directamente (probabilidad de manzana es 0)\")"
      ]
    }
  ]
}